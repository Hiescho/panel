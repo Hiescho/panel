{
 "cells": [
  {
   "cell_type": "code",
   "execution_count": null,
   "id": "b9f15f4a-dca4-4f25-a2ee-6035c178b543",
   "metadata": {},
   "outputs": [],
   "source": [
    "import sys\n",
    "import uuid\n",
    "import logging\n",
    "import panel as pn\n",
    "import bokeh\n",
    "from panel.io.jupyter_server_extension import url_path_join\n",
    "\n",
    "pn.extension(\"terminal\", sizing_mode='stretch_width')"
   ]
  },
  {
   "cell_type": "code",
   "execution_count": null,
   "id": "c0517895-0361-4ead-b49d-b0e1d6f7043b",
   "metadata": {},
   "outputs": [],
   "source": [
    "pn.Column(\n",
    "    pn.__version__,\n",
    "    pn.__file__,\n",
    "    pn.state.base_url,\n",
    "    pn.state.rel_path,\n",
    "    pn.state.cache.get(\"handlers\", \"not included\"),\n",
    "    str(bokeh.embed.bundle.extension_dirs),\n",
    "    url_path_join(pn.state.rel_path, r\"panel-preview/static/(.*)\"),\n",
    "    pn.widgets.Terminal(),\n",
    ").servable()"
   ]
  }
 ],
 "metadata": {
  "kernelspec": {
   "display_name": "Python 3",
   "language": "python",
   "name": "python3"
  },
  "language_info": {
   "codemirror_mode": {
    "name": "ipython",
    "version": 3
   },
   "file_extension": ".py",
   "mimetype": "text/x-python",
   "name": "python",
   "nbconvert_exporter": "python",
   "pygments_lexer": "ipython3",
   "version": "3.8.4"
  }
 },
 "nbformat": 4,
 "nbformat_minor": 5
}
